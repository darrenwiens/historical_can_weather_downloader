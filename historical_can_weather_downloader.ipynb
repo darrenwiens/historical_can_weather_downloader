{
 "cells": [
  {
   "cell_type": "markdown",
   "id": "5e8f74e7",
   "metadata": {},
   "source": [
    "This notebook is for downloading historical weather data from: https://climate.weather.gc.ca/"
   ]
  },
  {
   "cell_type": "code",
   "execution_count": null,
   "id": "0a810d2c",
   "metadata": {},
   "outputs": [],
   "source": [
    "import pandas as pd\n",
    "import requests\n",
    "from io import StringIO"
   ]
  },
  {
   "cell_type": "markdown",
   "id": "f194da44",
   "metadata": {},
   "source": [
    "Create a list of weather stations, and associated daily range date values, near lat/long coordinates."
   ]
  },
  {
   "cell_type": "code",
   "execution_count": null,
   "id": "31c9fbda",
   "metadata": {},
   "outputs": [],
   "source": [
    "url = \"https://climate.weather.gc.ca/historical_data/search_historic_data_stations_e.html\"\n",
    "\n",
    "params = {\n",
    "    \"searchType\":\"stnProx\",\n",
    "    \"timeframe\":2,\n",
    "    \"txtRadius\":25,\n",
    "    \"optProxType\":\"decimal\",\n",
    "    \"txtLatDecDeg\":53.9169,\n",
    "    \"txtLongDecDeg\":-122.7494,\n",
    "    \"optLimit\":\"yearRange\",\n",
    "    \"StartYear\":1840,\n",
    "    \"EndYear\":2021,\n",
    "    \"Year\":2021,\n",
    "    \"Month\":6,\n",
    "    \"Day\":26,\n",
    "    \"selRowPerPage\":25,\n",
    "    \"selCity\": \"\",\n",
    "    \"selPark\": \"\",\n",
    "    \"txtCentralLatDeg\": \"\",\n",
    "    \"txtCentralLatMin\": \"\",\n",
    "    \"txtCentralLatSec\": \"\",\n",
    "    \"txtCentralLongDeg\": \"\",\n",
    "    \"txtCentralLongMin\": \"\",\n",
    "    \"txtCentralLongSec\": \"\",\n",
    "}\n",
    "\n",
    "download = requests.get(url, params=params)\n",
    "\n",
    "sta_id_split = str(download.content).split('name=\"StationID\" value=\"')\n",
    "dlyRange_split = str(download.content).split('name=\"dlyRange\" value=\"')\n",
    "\n",
    "sta_ids = list(set([i.split('\"')[0] for i in sta_id_split[1:]]))\n",
    "dly_ranges = [i.split('\"')[0] for i in dlyRange_split[1:]][:len(sta_ids)]\n",
    "print(f\"Found {len(sta_ids)} stations\")"
   ]
  },
  {
   "cell_type": "markdown",
   "id": "3dccc963",
   "metadata": {},
   "source": [
    "Download the weather data. If `use_dly_range` is set to `True`, the daily range dates collected above will be used. If not, all data between 1900 and 2021 will be downloaded at each weather station."
   ]
  },
  {
   "cell_type": "code",
   "execution_count": null,
   "id": "aa3edcd3",
   "metadata": {},
   "outputs": [],
   "source": [
    "url = \"https://climate.weather.gc.ca/climate_data/bulk_data_e.html\"\n",
    "params = {\n",
    "    \"format\": \"csv\",\n",
    "    \"timeframe\": 2,\n",
    "    \"submit\": \"Download+Data\"\n",
    "}\n",
    "dfs = []\n",
    "\n",
    "use_dly_range = False\n",
    "\n",
    "for j, sta_name in enumerate(sta_ids):\n",
    "    if use_dly_range:\n",
    "        split_dly_range = dly_ranges[j].split(\"|\")\n",
    "        start_year = int(split_dly_range[0][:4])\n",
    "        end_year = int(split_dly_range[1][:4])\n",
    "        print(start_year, end_year)\n",
    "    else:\n",
    "        start_year = 1900\n",
    "        end_year = 2021\n",
    "        \n",
    "    for i in range(start_year, end_year+1):\n",
    "        params[\"Year\"] = i\n",
    "        params[\"stationID\"] = sta_name\n",
    "        download = requests.get(url, params=params)\n",
    "        \n",
    "        if download.status_code == 200:\n",
    "            decoded_content = StringIO(download.content.decode('utf-8'))\n",
    "            dfs.append(pd.read_csv(decoded_content))\n",
    "        else:\n",
    "            print(download.status_code, i, sta_name)\n",
    "    "
   ]
  },
  {
   "cell_type": "markdown",
   "id": "894d38d2",
   "metadata": {},
   "source": [
    "Combine the results into a single DataFrame, and print the first few rows."
   ]
  },
  {
   "cell_type": "code",
   "execution_count": null,
   "id": "3e419198",
   "metadata": {},
   "outputs": [],
   "source": [
    "df = pd.concat(dfs, axis=0, ignore_index=True)\n",
    "df.head()"
   ]
  },
  {
   "cell_type": "code",
   "execution_count": null,
   "id": "eaafed2c",
   "metadata": {},
   "outputs": [],
   "source": [
    "df.shape"
   ]
  },
  {
   "cell_type": "markdown",
   "id": "68c8cfb2",
   "metadata": {},
   "source": [
    "Notice above there are many rows where `Max Temp (°C)` and other attributes are NaN. Select the more useful data into a new DataFrame."
   ]
  },
  {
   "cell_type": "code",
   "execution_count": null,
   "id": "b7d4d302",
   "metadata": {},
   "outputs": [],
   "source": [
    "dropped_na = df[df['Max Temp (°C)'].notna()]\n",
    "dropped_na.reset_index(inplace=True)\n",
    "dropped_na.shape"
   ]
  },
  {
   "cell_type": "markdown",
   "id": "ed49c6b0",
   "metadata": {},
   "source": [
    "Save the combined, cleaned data to `csv`."
   ]
  },
  {
   "cell_type": "code",
   "execution_count": null,
   "id": "dc0eaf29",
   "metadata": {},
   "outputs": [],
   "source": [
    "dropped_na.to_csv(\"pg_historical_weather.csv\")"
   ]
  },
  {
   "cell_type": "markdown",
   "id": "3bf0e925",
   "metadata": {},
   "source": [
    "Optionally, load the data back from the csv."
   ]
  },
  {
   "cell_type": "code",
   "execution_count": null,
   "id": "c78c24da",
   "metadata": {},
   "outputs": [],
   "source": [
    "dropped_na = pd.read_csv(\"pg_historical_weather.csv\")"
   ]
  },
  {
   "cell_type": "markdown",
   "id": "305367e1",
   "metadata": {},
   "source": [
    "You can find record temperatures like below. For example, we find the maximum temperature recorded in June of any year before 2021."
   ]
  },
  {
   "cell_type": "code",
   "execution_count": null,
   "id": "a67bf4a7",
   "metadata": {},
   "outputs": [],
   "source": [
    "dropped_na.iloc[dropped_na[(dropped_na[\"Month\"]==6) & (dropped_na[\"Year\"]<2021)]['Max Temp (°C)'].idxmax()]"
   ]
  },
  {
   "cell_type": "markdown",
   "id": "4e4ecb02",
   "metadata": {},
   "source": [
    "We can use HoloViews for nice interactive charts."
   ]
  },
  {
   "cell_type": "code",
   "execution_count": null,
   "id": "973cf853",
   "metadata": {},
   "outputs": [],
   "source": [
    "import holoviews as hv\n",
    "from bokeh.models import HoverTool\n",
    "hv.extension('bokeh')"
   ]
  },
  {
   "cell_type": "code",
   "execution_count": null,
   "id": "f82674e8",
   "metadata": {},
   "outputs": [],
   "source": [
    "hot_june = dropped_na[(dropped_na[\"Max Temp (°C)\"]>30) & (dropped_na[\"Month\"]==6)]\n",
    "dt = pd.to_datetime(hot_june[\"Date/Time\"])\n",
    "hot_june[\"dt\"] = dt\n",
    "hot_june[\"max\"] = hot_june[\"Max Temp (°C)\"]\n",
    "hot_june[\"sta\"] = hot_june[\"Station Name\"]\n",
    "\n",
    "tooltips = [\n",
    "    ('dt', '@dt{%F}'),\n",
    "    (\"Max Temp (°C)\", '@max'),\n",
    "    ('Station Name', '@sta')\n",
    "]\n",
    "hover = HoverTool(\n",
    "    tooltips=tooltips,\n",
    "    formatters={\n",
    "        '@dt': 'datetime',\n",
    "    })\n",
    "\n",
    "hv.Scatter(\n",
    "    hot_june[[\"dt\", \"max\", \"sta\"]], vdims=[\"max\", \"sta\"]\n",
    ").opts(\n",
    "    tools=[hover],\n",
    "    size=5,\n",
    "    width=600\n",
    ")"
   ]
  },
  {
   "cell_type": "code",
   "execution_count": null,
   "id": "6a128d33",
   "metadata": {},
   "outputs": [],
   "source": []
  }
 ],
 "metadata": {
  "kernelspec": {
   "display_name": "Python 3",
   "language": "python",
   "name": "python3"
  },
  "language_info": {
   "codemirror_mode": {
    "name": "ipython",
    "version": 3
   },
   "file_extension": ".py",
   "mimetype": "text/x-python",
   "name": "python",
   "nbconvert_exporter": "python",
   "pygments_lexer": "ipython3",
   "version": "3.8.10"
  }
 },
 "nbformat": 4,
 "nbformat_minor": 5
}
